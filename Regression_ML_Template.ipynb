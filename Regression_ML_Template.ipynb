{
  "nbformat": 4,
  "nbformat_minor": 0,
  "metadata": {
    "colab": {
      "name": "Regression_ML_Template",
      "provenance": []
    },
    "kernelspec": {
      "name": "python3",
      "display_name": "Python 3"
    }
  },
  "cells": [
    {
      "cell_type": "markdown",
      "metadata": {
        "id": "se9EeRqcb5tt"
      },
      "source": [
        "**Use this notebook as a template to try out all the popular machine learning models for Regression**"
      ]
    },
    {
      "cell_type": "code",
      "metadata": {
        "id": "7Ha6t45Pb4im"
      },
      "source": [
        "import numpy as np\n",
        "import pandas as pd"
      ],
      "execution_count": 19,
      "outputs": []
    },
    {
      "cell_type": "code",
      "metadata": {
        "id": "S5HZgM30cKA7"
      },
      "source": [
        "dataset = pd.read_csv('Data.csv')\n",
        "#the below code assumes that the dependent variable is the last column\n",
        "X = dataset.iloc[:, :-1].values\n",
        "y = dataset.iloc[:, -1].values"
      ],
      "execution_count": 20,
      "outputs": []
    },
    {
      "cell_type": "code",
      "metadata": {
        "id": "ugPjyEqrcVXS"
      },
      "source": [
        "from sklearn.model_selection import train_test_split\n",
        "X_train, X_test, y_train, y_test = train_test_split(X, y, test_size = 0.2, random_state = 0)"
      ],
      "execution_count": 21,
      "outputs": []
    },
    {
      "cell_type": "markdown",
      "metadata": {
        "id": "L_7iBmA-cvNb"
      },
      "source": [
        "**Linear Regression**"
      ]
    },
    {
      "cell_type": "code",
      "metadata": {
        "colab": {
          "base_uri": "https://localhost:8080/"
        },
        "id": "2uDj_LBKcaYg",
        "outputId": "85d5af5c-53b2-4560-b210-efe130a512fc"
      },
      "source": [
        "from sklearn.linear_model import LinearRegression\n",
        "from sklearn.metrics import mean_absolute_error\n",
        "regressor = LinearRegression()\n",
        "regressor.fit(X_train, y_train)\n",
        "y_pred_linear = regressor.predict(X_test)\n",
        "print(mean_absolute_error(y_test, y_pred_linear))"
      ],
      "execution_count": 22,
      "outputs": [
        {
          "output_type": "stream",
          "text": [
            "3.5665646552038255\n"
          ],
          "name": "stdout"
        }
      ]
    },
    {
      "cell_type": "markdown",
      "metadata": {
        "id": "tSJ_LlLwc6hx"
      },
      "source": [
        "**Decision Regressor**"
      ]
    },
    {
      "cell_type": "code",
      "metadata": {
        "colab": {
          "base_uri": "https://localhost:8080/"
        },
        "id": "CODmRjp0cjjL",
        "outputId": "2f8ff915-999a-4322-f5ef-f4df57ab82a2"
      },
      "source": [
        "from sklearn.tree import DecisionTreeRegressor\n",
        "regressor_tree = DecisionTreeRegressor(random_state = 0)\n",
        "regressor_tree.fit(X_train, y_train)\n",
        "y_pred_tree = regressor_tree.predict(X_test)\n",
        "mean_absolute_error(y_test, y_pred_tree)"
      ],
      "execution_count": 23,
      "outputs": [
        {
          "output_type": "execute_result",
          "data": {
            "text/plain": [
              "3.113756530825497"
            ]
          },
          "metadata": {
            "tags": []
          },
          "execution_count": 23
        }
      ]
    },
    {
      "cell_type": "markdown",
      "metadata": {
        "id": "l4GCZvdaeJtO"
      },
      "source": [
        "**Random Forest Regressor**"
      ]
    },
    {
      "cell_type": "code",
      "metadata": {
        "colab": {
          "base_uri": "https://localhost:8080/"
        },
        "id": "97TbXKH-eVOF",
        "outputId": "6bda7a1f-77ec-4b2a-85b0-81a1324bbe9a"
      },
      "source": [
        "from sklearn.ensemble import RandomForestRegressor\n",
        "regressor_forest = RandomForestRegressor(n_estimators = 10, random_state = 0)\n",
        "regressor_forest.fit(X_train, y_train)\n",
        "y_pred_forest = regressor_forest.predict(X_test)\n",
        "mean_absolute_error(y_test, y_pred_forest)"
      ],
      "execution_count": 24,
      "outputs": [
        {
          "output_type": "execute_result",
          "data": {
            "text/plain": [
              "2.442925287356323"
            ]
          },
          "metadata": {
            "tags": []
          },
          "execution_count": 24
        }
      ]
    },
    {
      "cell_type": "markdown",
      "metadata": {
        "id": "KZmWxMTbfrkL"
      },
      "source": [
        "**XGBoost Regressor**"
      ]
    },
    {
      "cell_type": "code",
      "metadata": {
        "colab": {
          "base_uri": "https://localhost:8080/"
        },
        "id": "An1TueQzfq9l",
        "outputId": "7825764e-9ee5-42f2-de54-d363c195ccc5"
      },
      "source": [
        "from xgboost import XGBRegressor\n",
        "regressor_xgb = XGBRegressor(random_state=0)\n",
        "regressor_xgb.fit(X_train, y_train)\n",
        "y_pred_xgb = regressor_xgb.predict(X_test)\n",
        "mean_absolute_error(y_test, y_pred_xgb)"
      ],
      "execution_count": 26,
      "outputs": [
        {
          "output_type": "stream",
          "text": [
            "[05:58:40] WARNING: /workspace/src/objective/regression_obj.cu:152: reg:linear is now deprecated in favor of reg:squarederror.\n"
          ],
          "name": "stdout"
        },
        {
          "output_type": "execute_result",
          "data": {
            "text/plain": [
              "2.9304688788307374"
            ]
          },
          "metadata": {
            "tags": []
          },
          "execution_count": 26
        }
      ]
    },
    {
      "cell_type": "markdown",
      "metadata": {
        "id": "ezwM-kLpl7uC"
      },
      "source": [
        "**SVM Regressor**"
      ]
    },
    {
      "cell_type": "code",
      "metadata": {
        "colab": {
          "base_uri": "https://localhost:8080/"
        },
        "id": "FfaoQzH_l-zb",
        "outputId": "22ed1594-b5af-42a4-9b0b-58321cfa4cf0"
      },
      "source": [
        "# Feature Scaling\n",
        "from sklearn.preprocessing import StandardScaler\n",
        "sc_X = StandardScaler()\n",
        "sc_y = StandardScaler()\n",
        "X_train_SS = sc_X.fit_transform(X_train)\n",
        "X_test_SS = sc_X.transform(X_test)\n",
        "y_train_SS = sc_y.fit_transform(y_train.reshape(len(y_train),1))\n",
        "y_test_SS = y_test.reshape(len(y_test),1)\n",
        "# Model\n",
        "from sklearn.svm import SVR\n",
        "regressor_svm = SVR(kernel = 'rbf')\n",
        "regressor_svm.fit(X_train_SS, y_train_SS)\n",
        "y_pred_svm = sc_y.inverse_transform(regressor_svm.predict(X_test_SS))\n",
        "mean_absolute_error(y_test_SS, y_pred_svm)"
      ],
      "execution_count": 30,
      "outputs": [
        {
          "output_type": "stream",
          "text": [
            "/usr/local/lib/python3.7/dist-packages/sklearn/utils/validation.py:760: DataConversionWarning: A column-vector y was passed when a 1d array was expected. Please change the shape of y to (n_samples, ), for example using ravel().\n",
            "  y = column_or_1d(y, warn=True)\n"
          ],
          "name": "stderr"
        },
        {
          "output_type": "execute_result",
          "data": {
            "text/plain": [
              "2.9951783924513267"
            ]
          },
          "metadata": {
            "tags": []
          },
          "execution_count": 30
        }
      ]
    }
  ]
}